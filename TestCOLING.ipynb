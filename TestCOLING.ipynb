{
 "cells": [
  {
   "cell_type": "code",
   "execution_count": null,
   "metadata": {},
   "outputs": [],
   "source": [
    "!pip install -r requirements.txt\n",
    "!pip install pydantic>=2.7.0\n"
   ]
  },
  {
   "cell_type": "code",
   "execution_count": null,
   "metadata": {},
   "outputs": [],
   "source": [
    "from dotenv import load_dotenv\n",
    "\n",
    "load_dotenv()\n",
    "import aixplain.utils.config as aixplain_config\n",
    "\n",
    "from agentification.utilities.models import TeamAgentExecuteInput, AgentResponse\n",
    "from agentification.team_agent import TeamAgentService\n",
    "from datasets import load_dataset"
   ]
  },
  {
   "cell_type": "code",
   "execution_count": 3,
   "metadata": {},
   "outputs": [],
   "source": [
    "dataset = load_dataset(\"openai/gsm8k\", \"main\", split=\"test\")\n",
    "import re\n",
    "modified_samples = []\n",
    "\n",
    "for i, sample in enumerate(dataset):\n",
    "    last_number = re.findall(r'\\d+', sample['answer'])[-1]\n",
    "\n",
    "    new_sample = {\n",
    "        'question': sample['question'],\n",
    "        'answer': last_number\n",
    "    }\n",
    "\n",
    "    modified_samples.append(new_sample)\n",
    "\n"
   ]
  },
  {
   "cell_type": "code",
   "execution_count": 4,
   "metadata": {},
   "outputs": [
    {
     "data": {
      "text/plain": [
       "{'question': \"Janet’s ducks lay 16 eggs per day. She eats three for breakfast every morning and bakes muffins for her friends every day with four. She sells the remainder at the farmers' market daily for $2 per fresh duck egg. How much in dollars does she make every day at the farmers' market?\",\n",
       " 'answer': '18'}"
      ]
     },
     "execution_count": 4,
     "metadata": {},
     "output_type": "execute_result"
    }
   ],
   "source": [
    "modified_samples[0]"
   ]
  },
  {
   "cell_type": "markdown",
   "metadata": {},
   "source": [
    "## Run team agent without mentalist"
   ]
  },
  {
   "cell_type": "code",
   "execution_count": 5,
   "metadata": {},
   "outputs": [
    {
     "data": {
      "text/plain": [
       "TeamAgentExecuteInput(agent=TeamAgent(id='66758985e39f1c11f9102700', name='Test Community', status=<AssetStatus.ONBOARDED: 'onboarded'>, teamId=646, agents=[Agent(id='66758985e39f1c11f91027cf', name='python coder', status=<AssetStatus.ONBOARDED: 'onboarded'>, teamId=646, assets=[], llmId='66b2708c6eb5635d1c71f611', supervisorId=None, plannerId=None, number=1, type='AGENT', label='OUTPUT', description='You are an AI with advanced code understanding and planning capabilities. When you encounter a specific problem, your goal is to devise a Python code to solve it.')], links=[], assets=[], llmId='66b2708c6eb5635d1c71f611', supervisorId='66b2708c6eb5635d1c71f611', plannerId='66b2708c6eb5635d1c71f611'), api_key='9136c08bf02b5552885b9f2a5e0fae517d81ff2fa6fe7084a3adb655c4aa7215', query='', session_id=None, chat_history=[])"
      ]
     },
     "execution_count": 5,
     "metadata": {},
     "output_type": "execute_result"
    }
   ],
   "source": [
    "input_data = {\n",
    "    \"agent\": {\n",
    "        \"id\": \"66758985e39f1c11f9102700\",\n",
    "        \"name\": \"Test Community\",\n",
    "        \"status\": \"onboarded\",\n",
    "        \"teamId\": 646,\n",
    "        \"llmId\": \"66b2708c6eb5635d1c71f611\",\n",
    "        \"supervisorId\": \"66b2708c6eb5635d1c71f611\",\n",
    "        \"plannerId\": \"66b2708c6eb5635d1c71f611\",\n",
    "        \"links\": [],\n",
    "        \"assets\": [],\n",
    "        \"agents\": [\n",
    "            {\n",
    "                \"id\": \"66758985e39f1c11f91027cf\",\n",
    "                \"name\": \"python coder\",\n",
    "                \"description\": \"You are an AI with advanced code understanding and planning capabilities. When you encounter a specific problem, your goal is to devise a Python code to solve it.\",\n",
    "                \"status\": \"onboarded\",\n",
    "                \"teamId\": 646,\n",
    "                \"llmId\": \"66b2708c6eb5635d1c71f611\",\n",
    "                \"assets\": [\n",
    "\n",
    "                ],\n",
    "                \"createdAt\": \"2024-06-21T14:09:09.903Z\",\n",
    "                \"updatedAt\": \"2024-06-21T14:09:09.903Z\",\n",
    "                \"number\": 1,\n",
    "                \"type\": \"AGENT\",\n",
    "                \"label\": \"OUTPUT\"\n",
    "            }\n",
    "        ],\n",
    "        \"createdAt\": \"2024-06-21T14:09:09.903Z\",\n",
    "        \"updatedAt\": \"2024-06-21T14:09:09.903Z\",\n",
    "    },\n",
    "    \"query\": \"\",\n",
    "    \"chat_history\": [],\n",
    "    \"api_key\": aixplain_config.TEAM_API_KEY,\n",
    "}\n",
    "community_execute_input = TeamAgentExecuteInput(**input_data)\n",
    "community_execute_input"
   ]
  },
  {
   "cell_type": "code",
   "execution_count": null,
   "metadata": {},
   "outputs": [],
   "source": [
    "community_execute_input.query = \"Answer with just the number: Janet’s ducks lay 16 eggs per day. She eats three for breakfast every morning and bakes muffins for her friends every day with four. She sells the remainder at the farmers' market daily for $2 per fresh duck egg. How much in dollars does she make every day at the farmers' market?\"\n",
    "chat_history = []\n",
    "community_execute_input.session_id = \"123\"\n",
    "response = TeamAgentService.run(community_execute_input, chat_history)\n",
    "response"
   ]
  },
  {
   "cell_type": "code",
   "execution_count": 7,
   "metadata": {},
   "outputs": [
    {
     "name": "stdout",
     "output_type": "stream",
     "text": [
      "The final answer is $18.\n"
     ]
    }
   ],
   "source": [
    "print(response.output)"
   ]
  },
  {
   "cell_type": "code",
   "execution_count": null,
   "metadata": {},
   "outputs": [],
   "source": [
    "import time\n",
    "import re\n",
    "import json\n",
    "\n",
    "def extract_number(text):\n",
    "    match = re.search(r'\\d+\\.?\\d*', text)\n",
    "    number_str = match.group(0) if match else \"\"\n",
    "    return number_str.strip()\n",
    "\n",
    "correct_count = 0\n",
    "results = []  \n",
    "start = time.time()\n",
    "\n",
    "output_file = 'results4.json'\n",
    "\n",
    "for i, sample in enumerate(modified_samples[711:]):\n",
    "    community_execute_input.query = \"Answer with just the number as an integer: \" + sample['question']\n",
    "    chat_history = []\n",
    "    community_execute_input.session_id = \"123\"\n",
    "    response = TeamAgentService.run(community_execute_input, chat_history)\n",
    "    \n",
    "    expected_answer = sample['answer']\n",
    "    agent_response_number = extract_number(response.output)\n",
    "    \n",
    "    print(f\"Sample {i+1}:\")\n",
    "    print(f\"  Question: {sample['question']}\")\n",
    "    print(f\"  Expected Answer: {expected_answer}\")\n",
    "    print(f\"  Agent's Response: {agent_response_number}\")\n",
    "    \n",
    "    is_correct = expected_answer == agent_response_number\n",
    "    if is_correct:\n",
    "        correct_count += 1\n",
    "        print(\"CORRECT\")\n",
    "    \n",
    "    accuracy = correct_count / (i + 1) * 100\n",
    "    end = time.time()\n",
    "    length = end - start\n",
    "    result_data = {\n",
    "        \"sample\": i+1,\n",
    "        \"question\": sample['question'],\n",
    "        \"expected_answer\": expected_answer,\n",
    "        \"agent_response\": agent_response_number,\n",
    "        \"correct\": is_correct,\n",
    "        \"accuracy_so_far\": accuracy,\n",
    "        \"length_so_far\": length\n",
    "    }\n",
    "    \n",
    "    results.append(result_data)\n",
    "    \n",
    "    with open(output_file, 'w') as file:\n",
    "        json.dump(results, file, indent=4)\n",
    "\n",
    "end = time.time()\n",
    "length = end - start\n",
    "final_accuracy = correct_count / len(modified_samples[578:]) * 100\n",
    "\n",
    "print(f\"\\nFinal Accuracy: {final_accuracy}%\")\n",
    "print(f\"Time taken: {length} seconds\")\n",
    "\n",
    "final_data = {\n",
    "    \"final_accuracy\": final_accuracy,\n",
    "    \"time_taken\": length\n",
    "}\n",
    "\n",
    "with open(output_file, 'w') as file:\n",
    "    json.dump(results + [final_data], file, indent=4)\n"
   ]
  }
 ],
 "metadata": {
  "kernelspec": {
   "display_name": "agentification",
   "language": "python",
   "name": "python3"
  },
  "language_info": {
   "codemirror_mode": {
    "name": "ipython",
    "version": 3
   },
   "file_extension": ".py",
   "mimetype": "text/x-python",
   "name": "python",
   "nbconvert_exporter": "python",
   "pygments_lexer": "ipython3",
   "version": "3.9.19"
  }
 },
 "nbformat": 4,
 "nbformat_minor": 2
}
